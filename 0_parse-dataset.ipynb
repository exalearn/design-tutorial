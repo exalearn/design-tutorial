{
 "cells": [
  {
   "cell_type": "markdown",
   "metadata": {},
   "source": [
    "# Load in the Data, Make Pandas-able\n",
    "The raw data for this project is an ASE Database that holds the results of the water cluster calculations.\n",
    "We need to convert these ASE `Atoms` objects, which list the atomic coordinates and energy, into a form with the graph structure.\n",
    "This notebook contains the code to compute the graph structure for each entry in the database and save it all in an easily-accessible Pandas dataframe."
   ]
  },
  {
   "cell_type": "code",
   "execution_count": 1,
   "metadata": {},
   "outputs": [],
   "source": [
    "from graphsage.importing import create_graph, make_entry, make_tfrecord, make_nfp_network\n",
    "from multiprocessing import Pool\n",
    "from ase.db import connect\n",
    "from tqdm import tqdm\n",
    "from random import random\n",
    "import tensorflow as tf\n",
    "import pandas as pd\n",
    "import numpy as np\n",
    "import zipfile\n",
    "import json\n",
    "import gzip\n",
    "import os"
   ]
  },
  {
   "cell_type": "markdown",
   "metadata": {},
   "source": [
    "Configuration settings"
   ]
  },
  {
   "cell_type": "code",
   "execution_count": 2,
   "metadata": {},
   "outputs": [],
   "source": [
    "val_fraction = 0.1  # Fraction of entries set aside for validation\n",
    "data_path = os.path.join('data', 'input', 'tutorial.db')"
   ]
  },
  {
   "cell_type": "markdown",
   "metadata": {},
   "source": [
    "## Connect to the ASE Database\n",
    "This databsae stores the output of our simulations in a way we can easily use with atomic structure analysis codes."
   ]
  },
  {
   "cell_type": "code",
   "execution_count": 3,
   "metadata": {},
   "outputs": [
    {
     "name": "stdout",
     "output_type": "stream",
     "text": [
      "Connected to database with 32767 records\n"
     ]
    }
   ],
   "source": [
    "ase_db = connect(data_path)\n",
    "print(f'Connected to database with {len(ase_db)} records')"
   ]
  },
  {
   "cell_type": "markdown",
   "metadata": {},
   "source": [
    "## Convert ASE Objects to Networkx Graphs\n",
    "The code here is adapated from the [Exalearn:Design Github page](https://github.com/exalearn/design/blob/16cfe21d85528c6004514d2985428566453b24a1/graph_descriptors/graph_builder.py)."
   ]
  },
  {
   "cell_type": "markdown",
   "metadata": {},
   "source": [
    "Loop over the whole database"
   ]
  },
  {
   "cell_type": "code",
   "execution_count": 4,
   "metadata": {},
   "outputs": [],
   "source": [
    "def pull_from_database(ase_db, chunk_size=128, total=None):\n",
    "    \"\"\"Iterate over a large database\n",
    "    \n",
    "    Queries only a small chunk size at a time to prevent loading the \n",
    "    whole database into memory. \n",
    "    \n",
    "    Args:\n",
    "    \"\"\"\n",
    "    # Figure out how many iterations we need to make\n",
    "    if total is None:\n",
    "        total = ase_db.count()\n",
    "    \n",
    "    # Generate the dataset\n",
    "    starts = np.arange(0, total, chunk_size, dtype=np.int32)\n",
    "    \n",
    "    # Randomize the starts to help the diversity\n",
    "    np.random.shuffle(starts)\n",
    "    \n",
    "    # Iterate through the whole database\n",
    "    for start in starts:\n",
    "        for a in ase_db.select(\n",
    "            selection=[('id','>=', str(start)), ('id', '<', str(start+chunk_size))]):\n",
    "            yield a.toatoms()"
   ]
  },
  {
   "cell_type": "markdown",
   "metadata": {},
   "source": [
    "## Save the Data as NFP-ready TensorFlow record objects\n",
    "Save the whole file as a JSON-LD where each entry has the form:\n",
    "\n",
    "```json\n",
    "{\n",
    "  'entry': 'entry number as an integer',\n",
    "  'energy': 'energy as a float',\n",
    "  'n_waters': 'number of water molecules as an integer', \n",
    "  'n_atom': 'number of atoms as an integer', \n",
    "  'n_bonds': 'number of bonds as an integer',\n",
    "  'atom': 'List of atom types (0 -> Oxygen, 1 -> Hydrogen)',\n",
    "  'bond': 'List of bond types (0 -> covalent, 1 -> Hydrogen)',\n",
    "  'connectivity': 'List of connections between atoms, as a list of pairs of ints. Sorted ascending by column 0, then 1'\n",
    "}\n",
    "```"
   ]
  },
  {
   "cell_type": "markdown",
   "metadata": {},
   "source": [
    "Pull a single cluster and make its network graph"
   ]
  },
  {
   "cell_type": "code",
   "execution_count": 5,
   "metadata": {},
   "outputs": [],
   "source": [
    "atoms = next(pull_from_database(ase_db, total=2))"
   ]
  },
  {
   "cell_type": "code",
   "execution_count": 6,
   "metadata": {},
   "outputs": [
    {
     "data": {
      "text/plain": [
       "{'energy': -86.9336243,\n",
       " 'n_waters': 10,\n",
       " 'n_atom': 30,\n",
       " 'n_bond': 68,\n",
       " 'atom': [0,\n",
       "  1,\n",
       "  1,\n",
       "  0,\n",
       "  1,\n",
       "  1,\n",
       "  0,\n",
       "  1,\n",
       "  1,\n",
       "  0,\n",
       "  1,\n",
       "  1,\n",
       "  0,\n",
       "  1,\n",
       "  1,\n",
       "  0,\n",
       "  1,\n",
       "  1,\n",
       "  0,\n",
       "  1,\n",
       "  1,\n",
       "  0,\n",
       "  1,\n",
       "  1,\n",
       "  0,\n",
       "  1,\n",
       "  1,\n",
       "  0,\n",
       "  1,\n",
       "  1],\n",
       " 'bond': [0,\n",
       "  0,\n",
       "  0,\n",
       "  0,\n",
       "  1,\n",
       "  1,\n",
       "  1,\n",
       "  1,\n",
       "  1,\n",
       "  1,\n",
       "  0,\n",
       "  0,\n",
       "  0,\n",
       "  0,\n",
       "  1,\n",
       "  1,\n",
       "  1,\n",
       "  1,\n",
       "  0,\n",
       "  0,\n",
       "  0,\n",
       "  0,\n",
       "  1,\n",
       "  1,\n",
       "  1,\n",
       "  1,\n",
       "  0,\n",
       "  0,\n",
       "  0,\n",
       "  0,\n",
       "  1,\n",
       "  1,\n",
       "  1,\n",
       "  1,\n",
       "  0,\n",
       "  0,\n",
       "  0,\n",
       "  0,\n",
       "  1,\n",
       "  1,\n",
       "  1,\n",
       "  1,\n",
       "  0,\n",
       "  0,\n",
       "  0,\n",
       "  0,\n",
       "  0,\n",
       "  0,\n",
       "  0,\n",
       "  0,\n",
       "  1,\n",
       "  1,\n",
       "  1,\n",
       "  1,\n",
       "  1,\n",
       "  1,\n",
       "  0,\n",
       "  0,\n",
       "  0,\n",
       "  0,\n",
       "  0,\n",
       "  0,\n",
       "  0,\n",
       "  0,\n",
       "  0,\n",
       "  0,\n",
       "  0,\n",
       "  0],\n",
       " 'connectivity': array([[ 0,  1],\n",
       "        [ 0,  2],\n",
       "        [ 0,  5],\n",
       "        [ 1,  0],\n",
       "        [ 1, 27],\n",
       "        [ 2,  0],\n",
       "        [ 2,  9],\n",
       "        [ 3,  4],\n",
       "        [ 3,  5],\n",
       "        [ 3, 25],\n",
       "        [ 4,  3],\n",
       "        [ 4, 15],\n",
       "        [ 5,  0],\n",
       "        [ 5,  3],\n",
       "        [ 6,  7],\n",
       "        [ 6,  8],\n",
       "        [ 6, 22],\n",
       "        [ 7,  6],\n",
       "        [ 7, 15],\n",
       "        [ 8,  6],\n",
       "        [ 9,  2],\n",
       "        [ 9, 10],\n",
       "        [ 9, 11],\n",
       "        [ 9, 17],\n",
       "        [10,  9],\n",
       "        [11,  9],\n",
       "        [11, 18],\n",
       "        [12, 13],\n",
       "        [12, 14],\n",
       "        [12, 23],\n",
       "        [13, 12],\n",
       "        [14, 12],\n",
       "        [14, 24],\n",
       "        [15,  4],\n",
       "        [15,  7],\n",
       "        [15, 16],\n",
       "        [15, 17],\n",
       "        [16, 15],\n",
       "        [17,  9],\n",
       "        [17, 15],\n",
       "        [18, 11],\n",
       "        [18, 19],\n",
       "        [18, 20],\n",
       "        [18, 28],\n",
       "        [19, 18],\n",
       "        [19, 24],\n",
       "        [20, 18],\n",
       "        [20, 21],\n",
       "        [21, 20],\n",
       "        [21, 22],\n",
       "        [21, 23],\n",
       "        [22,  6],\n",
       "        [22, 21],\n",
       "        [23, 12],\n",
       "        [23, 21],\n",
       "        [24, 14],\n",
       "        [24, 19],\n",
       "        [24, 25],\n",
       "        [24, 26],\n",
       "        [25,  3],\n",
       "        [25, 24],\n",
       "        [26, 24],\n",
       "        [27,  1],\n",
       "        [27, 28],\n",
       "        [27, 29],\n",
       "        [28, 18],\n",
       "        [28, 27],\n",
       "        [29, 27]])}"
      ]
     },
     "execution_count": 6,
     "metadata": {},
     "output_type": "execute_result"
    }
   ],
   "source": [
    "make_nfp_network(atoms)"
   ]
  },
  {
   "cell_type": "markdown",
   "metadata": {},
   "source": [
    "Generate many records in parallel"
   ]
  },
  {
   "cell_type": "code",
   "execution_count": 7,
   "metadata": {},
   "outputs": [],
   "source": [
    "os.makedirs(os.path.join('data', 'output'), exist_ok=True)"
   ]
  },
  {
   "cell_type": "code",
   "execution_count": 8,
   "metadata": {},
   "outputs": [
    {
     "name": "stderr",
     "output_type": "stream",
     "text": [
      "100%|█████████████████████████████████████████████████████████████████████████████████████████████████████████████████████████████████████████████████████████████████████████████████████████████████████████████████████| 32767/32767 [02:07<00:00, 256.86it/s]\n"
     ]
    }
   ],
   "source": [
    "with tf.io.TFRecordWriter(os.path.join('data', 'output', 'water_clusters.proto')) as writer:\n",
    "    with tf.io.TFRecordWriter(os.path.join('data', 'output', 'water_clusters_validation.proto')) as writer_val:\n",
    "        with Pool(os.cpu_count() - 1) as p:  # Keep one CPU for reading the database and writing to output\n",
    "            for entry in tqdm(\n",
    "                p.imap(make_tfrecord, pull_from_database(ase_db), chunksize=64),\n",
    "                total=len(ase_db)\n",
    "            ):\n",
    "                if random() < val_fraction:\n",
    "                    writer_val.write(entry)\n",
    "                else:\n",
    "                    writer.write(entry)"
   ]
  },
  {
   "cell_type": "code",
   "execution_count": null,
   "metadata": {},
   "outputs": [],
   "source": []
  }
 ],
 "metadata": {
  "kernelspec": {
   "display_name": "Python 3",
   "language": "python",
   "name": "python3"
  },
  "language_info": {
   "codemirror_mode": {
    "name": "ipython",
    "version": 3
   },
   "file_extension": ".py",
   "mimetype": "text/x-python",
   "name": "python",
   "nbconvert_exporter": "python",
   "pygments_lexer": "ipython3",
   "version": "3.7.5"
  }
 },
 "nbformat": 4,
 "nbformat_minor": 4
}
