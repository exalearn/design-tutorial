{
 "cells": [
  {
   "cell_type": "markdown",
   "metadata": {},
   "source": [
    "# Plot Results of Training Performance\n",
    "We have run a training performance test on a few different machines, here we assess and contrast performance"
   ]
  },
  {
   "cell_type": "code",
   "execution_count": 1,
   "metadata": {},
   "outputs": [],
   "source": [
    "%matplotlib inline\n",
    "from matplotlib import pyplot as plt\n",
    "from glob import glob\n",
    "import pandas as pd\n",
    "import numpy as np\n",
    "import json\n",
    "import os"
   ]
  },
  {
   "cell_type": "markdown",
   "metadata": {},
   "source": [
    "## Load in the Data\n",
    "We are going to get the data from two sources: (1) Runs on my desktop computer (an [Intel i5 2550K](https://ark.intel.com/content/www/us/en/ark/products/65647/intel-core-i5-2550k-processor-6m-cache-up-to-3-80-ghz.html)) with and without a [GTX 670](https://www.geforce.com/hardware/desktop-gpus/geforce-gtx-670/specifications) GPU and (2) a single node on Theta with the MCDRAM in cache mode."
   ]
  },
  {
   "cell_type": "code",
   "execution_count": 2,
   "metadata": {},
   "outputs": [
    {
     "data": {
      "text/plain": [
       "{'hostname': 'theta',\n",
       " 'using_gpu': False,\n",
       " 'threads': 16,\n",
       " 'using_horovod': True,\n",
       " 'total_ranks': 4,\n",
       " 'ranks_per_node': 4,\n",
       " 'n_nodes': 1,\n",
       " 'threads_per_core': 1,\n",
       " 'n_batches': 512,\n",
       " 'inter_op': 0,\n",
       " 'loader_threads': -1,\n",
       " 'batch_size': [32],\n",
       " 'rate': [1.9770058428831898],\n",
       " 'global_batch_size': array([128]),\n",
       " 'entry_rate': array([253.05674789]),\n",
       " 'epoch_time': array([17387.40435378])}"
      ]
     },
     "execution_count": 2,
     "metadata": {},
     "output_type": "execute_result"
    }
   ],
   "source": [
    "def load_results(dir_name):\n",
    "    \"\"\"Load a summary of the profiling experiment\n",
    "    \n",
    "    Args:\n",
    "        dir_name (str): Path to a directory\n",
    "    Returns:\n",
    "        (dict) Dictionary of all the test files\n",
    "    \"\"\"\n",
    "    \n",
    "    output = {}\n",
    "    \n",
    "    # Get the system configuration\n",
    "    with open(os.path.join(dir_name, 'host_info.json')) as fp:\n",
    "        host_info = json.load(fp)\n",
    "        \n",
    "    host = host_info['hostname']\n",
    "    output['hostname'] = 'theta' if host.startswith('nid') else host\n",
    "    output['using_gpu'] = len(host_info['gpus']) > 0\n",
    "    output['threads'] = int(host_info['accessible_cores'])\n",
    "    output['using_horovod'] = 'total_ranks' in host_info\n",
    "    output['total_ranks'] = host_info.get('total_ranks', 1)\n",
    "    output['ranks_per_node'] = host_info.get('ranks_per_node', 1)\n",
    "    output['n_nodes'] = output['total_ranks'] // output['ranks_per_node']\n",
    "    output['threads_per_core'] = output['threads'] * output['ranks_per_node'] // 64\n",
    "    \n",
    "    # Get the run configuration\n",
    "    with open(os.path.join(dir_name, 'run_params.json')) as fp:\n",
    "        run_info = json.load(fp)\n",
    "    \n",
    "    output['n_batches'] = run_info['n_batches']\n",
    "    output['inter_op'] = run_info['inter_op']\n",
    "    output['loader_threads'] = run_info['parallel_loader']\n",
    "    \n",
    "    # Load the run performance\n",
    "    with open(os.path.join(dir_name, 'timings.json')) as fp:\n",
    "        timing = json.load(fp)\n",
    "        \n",
    "    output.update(timing)\n",
    "    \n",
    "    # Compute the global batch sizes\n",
    "    output['global_batch_size'] = np.multiply(output['batch_size'], output['total_ranks'])\n",
    "    \n",
    "    # Compute the number of training entries per second across all ranks\n",
    "    output['entry_rate'] = np.multiply(output['batch_size'], output['rate']) * output['total_ranks']\n",
    "    \n",
    "    # Compute how long it takes to assess 4.4M entries (size of my training set)\n",
    "    output['epoch_time'] = 4.4e6 / output['entry_rate']\n",
    "    \n",
    "    return output\n",
    "load_results('29Jan20-191133-nid00004')"
   ]
  },
  {
   "cell_type": "code",
   "execution_count": 3,
   "metadata": {},
   "outputs": [],
   "source": [
    "results = pd.DataFrame([load_results(os.path.dirname(f)) for f in glob(os.path.join('**', 'timings.json')) +\n",
    "                       glob(os.path.join('..', 'profile-train', '**', 'timings.json'))])"
   ]
  },
  {
   "cell_type": "markdown",
   "metadata": {},
   "source": [
    "Figure out how long a single epoch will take for the fastest model"
   ]
  },
  {
   "cell_type": "code",
   "execution_count": 4,
   "metadata": {},
   "outputs": [
    {
     "name": "stdout",
     "output_type": "stream",
     "text": [
      "Minimum epoch time: 1241.63s\n"
     ]
    }
   ],
   "source": [
    "print(f'Minimum epoch time: {np.hstack(results.query(\"using_horovod\")[\"epoch_time\"]).min() :.2f}s')\\"
   ]
  },
  {
   "cell_type": "markdown",
   "metadata": {},
   "source": [
    "Print out the fastest model"
   ]
  },
  {
   "cell_type": "code",
   "execution_count": 5,
   "metadata": {},
   "outputs": [
    {
     "name": "stdout",
     "output_type": "stream",
     "text": [
      "Best configuration:\n",
      "  n_nodes: 8\n",
      "  ranks_per_node: 16\n",
      "  threads_per_core: 2\n",
      "  Batch size: 1024\n"
     ]
    }
   ],
   "source": [
    "best_config = results.loc[results.query(\"using_horovod\")[\"epoch_time\"].map(min).idxmin()]\n",
    "print('Best configuration:')\n",
    "for k in ['n_nodes', 'ranks_per_node', 'threads_per_core']:\n",
    "    print(f'  {k}: {best_config[k]}')\n",
    "print(f'  Batch size: {best_config[\"batch_size\"][np.argmin(best_config[\"epoch_time\"])]}')"
   ]
  },
  {
   "cell_type": "markdown",
   "metadata": {},
   "source": [
    "## Optimize Number of Ranks Per Node\n",
    "Horovod allows us to place more than one model replica per node. As we are not fully using the KNL processor, perhaps training more than one model per node is a good route for accelerating training"
   ]
  },
  {
   "cell_type": "code",
   "execution_count": 6,
   "metadata": {},
   "outputs": [],
   "source": [
    "subset = results.query('hostname == \"theta\" and n_nodes==1 and loader_threads>0 and using_horovod and threads_per_core==1').sort_values('ranks_per_node')"
   ]
  },
  {
   "cell_type": "markdown",
   "metadata": {},
   "source": [
    "Plot the results as a function of global batch size"
   ]
  },
  {
   "cell_type": "code",
   "execution_count": 7,
   "metadata": {},
   "outputs": [
    {
     "data": {
      "image/png": "[encoded data removed]",
      "text/plain": [
       "<Figure size 252x252 with 1 Axes>"
      ]
     },
     "metadata": {
      "needs_background": "light"
     },
     "output_type": "display_data"
    }
   ],
   "source": [
    "fig, ax = plt.subplots()\n",
    "fig.set_size_inches(3.5, 3.5)\n",
    "\n",
    "for _, row in subset.iterrows():\n",
    "    ax.loglog(row['global_batch_size'], row['entry_rate'], 'o-', label=f'rpn={row[\"ranks_per_node\"]}')\n",
    "\n",
    "ax.legend()\n",
    "ax.set_xlabel('Global Batch Size')\n",
    "ax.set_ylabel('Rate (entry/s)')\n",
    "\n",
    "fig.tight_layout()\n",
    "fig.savefig('intra-node-parallelism.png', dpi=320)"
   ]
  },
  {
   "cell_type": "markdown",
   "metadata": {},
   "source": [
    "Plot results at a small global batch size"
   ]
  },
  {
   "cell_type": "code",
   "execution_count": 8,
   "metadata": {},
   "outputs": [],
   "source": [
    "rates = [x['entry_rate'][list(x['global_batch_size']).index(256)] for _, x in subset.iterrows()]"
   ]
  },
  {
   "cell_type": "code",
   "execution_count": 9,
   "metadata": {},
   "outputs": [
    {
     "data": {
      "text/plain": [
       "Text(0, 0.5, 'Rate (entry/s)')"
      ]
     },
     "execution_count": 9,
     "metadata": {},
     "output_type": "execute_result"
    },
    {
     "data": {
      "image/png": "[encoded data removed]",
      "text/plain": [
       "<Figure size 432x288 with 1 Axes>"
      ]
     },
     "metadata": {
      "needs_background": "light"
     },
     "output_type": "display_data"
    }
   ],
   "source": [
    "fig, ax = plt.subplots()\n",
    "\n",
    "ax.semilogx(subset['ranks_per_node'], rates, 'o-')\n",
    "\n",
    "ax.set_xlabel('Ranks per Node')\n",
    "ax.set_ylabel('Rate (entry/s)')"
   ]
  },
  {
   "cell_type": "markdown",
   "metadata": {},
   "source": [
    "*Finding*: We can get a larger throughput for the same global batch size by launching >1 rank per node. The performance seems to max out with "
   ]
  },
  {
   "cell_type": "markdown",
   "metadata": {},
   "source": [
    "## Optimize Hyperthreading\n",
    "The KNL processors on Theta have 4 hardware threads per physical CPU core. We we see if activating them improves performance"
   ]
  },
  {
   "cell_type": "code",
   "execution_count": 10,
   "metadata": {},
   "outputs": [],
   "source": [
    "subset = results.query('hostname == \"theta\" and n_nodes==1 and loader_threads>0 and using_horovod and ranks_per_node==16').sort_values('threads_per_core')"
   ]
  },
  {
   "cell_type": "code",
   "execution_count": 11,
   "metadata": {},
   "outputs": [
    {
     "data": {
      "text/plain": [
       "Text(0, 0.5, 'Rate (entry/s)')"
      ]
     },
     "execution_count": 11,
     "metadata": {},
     "output_type": "execute_result"
    },
    {
     "data": {
      "image/png": "[encoded data removed]",
      "text/plain": [
       "<Figure size 432x288 with 1 Axes>"
      ]
     },
     "metadata": {
      "needs_background": "light"
     },
     "output_type": "display_data"
    }
   ],
   "source": [
    "fig, ax = plt.subplots()\n",
    "\n",
    "for _, row in subset.iterrows():\n",
    "    if max(row['batch_size']) <= 512:  # Only the small-scale tests\n",
    "        ax.loglog(row['batch_size'], row['entry_rate'], 'o-', label=f'tpc={row[\"threads_per_core\"]}')\n",
    "\n",
    "ax.legend()\n",
    "ax.set_xlabel('Batch Size')\n",
    "ax.set_ylabel('Rate (entry/s)')"
   ]
  },
  {
   "cell_type": "markdown",
   "metadata": {},
   "source": [
    "*Finding*: The thread per core becomes slightly more beneficial at larger core counts, but only for 2 threads per core."
   ]
  },
  {
   "cell_type": "markdown",
   "metadata": {},
   "source": [
    "## Evaluate Scaling\n",
    "We want to see how many KNL nodes can work in concert to train our relatively small model."
   ]
  },
  {
   "cell_type": "code",
   "execution_count": 12,
   "metadata": {},
   "outputs": [],
   "source": [
    "subset = results.query('hostname == \"theta\" and loader_threads>0 and using_horovod and ranks_per_node==16 and threads_per_core==2').sort_values('n_nodes')"
   ]
  },
  {
   "cell_type": "markdown",
   "metadata": {},
   "source": [
    "Plot the performance over batch size"
   ]
  },
  {
   "cell_type": "code",
   "execution_count": 13,
   "metadata": {},
   "outputs": [
    {
     "data": {
      "text/plain": [
       "Text(0, 0.5, 'Rate per Node (entry/s)')"
      ]
     },
     "execution_count": 13,
     "metadata": {},
     "output_type": "execute_result"
    },
    {
     "data": {
      "image/png": "[encoded data removed]",
      "text/plain": [
       "<Figure size 432x288 with 1 Axes>"
      ]
     },
     "metadata": {
      "needs_background": "light"
     },
     "output_type": "display_data"
    }
   ],
   "source": [
    "fig, ax = plt.subplots()\n",
    "\n",
    "for _, row in subset.iterrows():\n",
    "    if max(row['batch_size']) <= 512:\n",
    "        ax.loglog(row['batch_size'], row['entry_rate'], 'o-', label=f'n_nodes={row[\"n_nodes\"]}')\n",
    "\n",
    "ax.legend()\n",
    "ax.set_xlabel('Batch Size')\n",
    "ax.set_ylabel('Rate per Node (entry/s)')"
   ]
  },
  {
   "cell_type": "markdown",
   "metadata": {},
   "source": [
    "*Finding*: We do see the performance increase with batch size, although there are certainly some losses"
   ]
  },
  {
   "cell_type": "markdown",
   "metadata": {},
   "source": [
    "Plot the rate performance for a single batch size"
   ]
  },
  {
   "cell_type": "code",
   "execution_count": 14,
   "metadata": {},
   "outputs": [],
   "source": [
    "scaling = []\n",
    "batch_size = 1024\n",
    "for _, row in subset.iterrows():\n",
    "    for batch_size in [512, 1024]:\n",
    "        if batch_size in row['batch_size']:\n",
    "            scaling.append({\n",
    "                'n_nodes': row['n_nodes'],\n",
    "                'batch_size': batch_size,\n",
    "                'entry_rate': row['entry_rate'][list(row['batch_size']).index(batch_size)]\n",
    "            })\n",
    "scaling = pd.DataFrame(scaling)"
   ]
  },
  {
   "cell_type": "code",
   "execution_count": 15,
   "metadata": {},
   "outputs": [
    {
     "data": {
      "image/png": "[encoded data removed]",
      "text/plain": [
       "<Figure size 252x252 with 1 Axes>"
      ]
     },
     "metadata": {
      "needs_background": "light"
     },
     "output_type": "display_data"
    }
   ],
   "source": [
    "fig, ax = plt.subplots()\n",
    "fig.set_size_inches(3.5, 3.5)\n",
    "\n",
    "base_rate = scaling.query('n_nodes == 1')['entry_rate'].max()\n",
    "for batch_size, group in scaling.groupby('batch_size'):\n",
    "    ax.plot(group['n_nodes'], group['entry_rate'], 'o-', label=f'b={batch_size}')\n",
    "ax.plot([0, 10], [0, 10 * base_rate], 'k--', label='Ideal')\n",
    "\n",
    "\n",
    "ax.legend()\n",
    "ax.set_xlim(0, 9)\n",
    "ax.set_ylim(0, 12000)\n",
    "ax.set_xlabel('Number of Nodes')\n",
    "ax.set_ylabel('Rate (entry/s)')\n",
    "\n",
    "fig.tight_layout()\n",
    "fig.savefig('inter-node-parallelism.png', dpi=320)"
   ]
  },
  {
   "cell_type": "markdown",
   "metadata": {},
   "source": [
    "*Finding*: We do not scale that well with Tensorflow+Horovod for a model that is as quick to run as mine"
   ]
  },
  {
   "cell_type": "markdown",
   "metadata": {},
   "source": [
    "## Compare Theta to Desktop GPU\n",
    "Comparing my GTX670 to a KNL"
   ]
  },
  {
   "cell_type": "markdown",
   "metadata": {},
   "source": [
    "Get a single plot for each"
   ]
  },
  {
   "cell_type": "code",
   "execution_count": 16,
   "metadata": {},
   "outputs": [
    {
     "name": "stdout",
     "output_type": "stream",
     "text": [
      "Theta averaged over 128 batches\n"
     ]
    }
   ],
   "source": [
    "theta = results.query(\"hostname == 'theta' and inter_op == 1 and n_batches == 128 and not using_horovod\")\n",
    "assert len(theta) == 1\n",
    "theta = theta.iloc[0]\n",
    "print(f'Theta averaged over {theta[\"n_batches\"]} batches')"
   ]
  },
  {
   "cell_type": "code",
   "execution_count": 17,
   "metadata": {},
   "outputs": [
    {
     "name": "stdout",
     "output_type": "stream",
     "text": [
      "Horovod averaged over 128 batches\n"
     ]
    }
   ],
   "source": [
    "horovod = results.query(\"hostname == 'theta' and inter_op == 1 and n_batches == 128 \"\n",
    "                        \"and using_horovod and ranks_per_node == 16 and n_nodes == 8 \"\n",
    "                        \"and threads_per_core==2\")\n",
    "assert len(horovod) == 1\n",
    "horovod = horovod.iloc[0]\n",
    "print(f'Horovod averaged over {theta[\"n_batches\"]} batches')"
   ]
  },
  {
   "cell_type": "code",
   "execution_count": 18,
   "metadata": {},
   "outputs": [
    {
     "name": "stdout",
     "output_type": "stream",
     "text": [
      "GPU averaged over 128 batches\n"
     ]
    }
   ],
   "source": [
    "gpu = results.query(\"hostname == 'Logan-Desktop' and using_gpu and n_batches == 128\")\n",
    "assert len(gpu) == 1\n",
    "gpu = gpu.iloc[0]\n",
    "print(f'GPU averaged over {gpu[\"n_batches\"]} batches')"
   ]
  },
  {
   "cell_type": "markdown",
   "metadata": {},
   "source": [
    "Plot the data "
   ]
  },
  {
   "cell_type": "code",
   "execution_count": 19,
   "metadata": {},
   "outputs": [
    {
     "data": {
      "text/plain": [
       "<matplotlib.legend.Legend at 0x7f43ddcd3950>"
      ]
     },
     "execution_count": 19,
     "metadata": {},
     "output_type": "execute_result"
    },
    {
     "data": {
      "image/png": "[encoded data removed]",
      "text/plain": [
       "<Figure size 432x288 with 1 Axes>"
      ]
     },
     "metadata": {
      "needs_background": "light"
     },
     "output_type": "display_data"
    }
   ],
   "source": [
    "fig, ax = plt.subplots()\n",
    "\n",
    "ax.loglog(theta['batch_size'], theta['entry_rate'], 'o-', label='No Horovod')\n",
    "ax.loglog(horovod['global_batch_size'], horovod['entry_rate'], 'o-', label='Single Node')\n",
    "ax.loglog(gpu['batch_size'], gpu['entry_rate'], 'o-', label='GPU')\n",
    "\n",
    "ax.set_xlabel('Global Batch Size')\n",
    "ax.set_ylabel('Rate (entry/s)')\n",
    "ax.legend()"
   ]
  },
  {
   "cell_type": "markdown",
   "metadata": {},
   "source": [
    "*Finding*: The KNL and GPU are equal in throughput rate, but requires a larger global batch size (number of replicas times the batch size per replica)"
   ]
  },
  {
   "cell_type": "code",
   "execution_count": null,
   "metadata": {},
   "outputs": [],
   "source": []
  }
 ],
 "metadata": {
  "kernelspec": {
   "display_name": "Python 3",
   "language": "python",
   "name": "python3"
  },
  "language_info": {
   "codemirror_mode": {
    "name": "ipython",
    "version": 3
   },
   "file_extension": ".py",
   "mimetype": "text/x-python",
   "name": "python",
   "nbconvert_exporter": "python",
   "pygments_lexer": "ipython3",
   "version": "3.7.4"
  }
 },
 "nbformat": 4,
 "nbformat_minor": 4
}
